{
 "cells": [
  {
   "cell_type": "markdown",
   "id": "75a9625a-62d6-4af7-8ff2-bd829871f977",
   "metadata": {},
   "source": [
    "# Neural Circuit Policies\n",
    "\n",
    "Neural Circuit Policies are recurrent neural network models inspired by the nervious system of the nematode C. elegans. Compared to standard ML models, NCPs have:\n",
    "\n",
    "1. Neurons that are modelled by an Ordinary Differential Equation\n",
    "2. A sparse structured wiring\n",
    "\n",
    "_The goal of this notebook is to understand ncps and learning how to implement for our task. For this we will refer to the github package ncps by Mathias Lechner._"
   ]
  },
  {
   "cell_type": "code",
   "execution_count": 1,
   "id": "b14e9341-61ad-4eec-93a1-16243b85733f",
   "metadata": {},
   "outputs": [],
   "source": [
    "# Pytorch Example\n",
    "import torch\n",
    "from ncps.torch import CfC\n",
    "\n",
    "# a fully connected CfC network\n",
    "rnn = CfC(input_size=20, units=50)\n",
    "x = torch.randn(2, 3, 20) # (batch, time, features)\n",
    "h0 = torch.zeros(2,50) # (batch, units)\n",
    "output, hn = rnn(x,h0)"
   ]
  },
  {
   "cell_type": "code",
   "execution_count": 3,
   "id": "5b0a6c46-98dd-4508-a04a-5c427f7822dc",
   "metadata": {},
   "outputs": [],
   "source": [
    "# Tensorflow example\n",
    "import tensorflow as tf\n",
    "from ncps.tf import LTC\n",
    "from ncps.wirings import AutoNCP\n",
    "\n",
    "wiring = AutoNCP(28, 4) # 28 neurons, 4 outputs\n",
    "model = tf.keras.models.Sequential(\n",
    "    [\n",
    "        tf.keras.layers.InputLayer(input_shape=(None, 2)),\n",
    "        # LTC model with NCP sparse wiring\n",
    "        LTC(wiring, return_sequences=True),\n",
    "    ]\n",
    ")"
   ]
  },
  {
   "cell_type": "markdown",
   "id": "7f83a79e-5d7e-455b-a064-06ab710596bc",
   "metadata": {},
   "source": [
    "## Neuron Models\n",
    "\n",
    "The package currently provides two neuron models: LTC and CfC:\n",
    "\n",
    "1. [Liquid time-constant (LTC)]() model \\\n",
    "   It is based on neurons based on differential equations interconnected via sigmoidal synapses. The term liquid time comes from the property of LTCs that their timing behaviour is adaptive to the input. How fast or slow they respond to some stimulus can depend on the specific input. Because LTCs are Ordinary Differential Equations, their behaviour can only be described over time. LTCs are universal approximators and implement causal dynamical models. However, the LTC model has one major disadvantage: to compute their output, we need a numerical differential-equation solver which seriously slows down their training and inference time. CfC model can resolve this bottleneck.\n",
    "\n",
    "2. [Closed-form continuous-time (CfC)]() model \\\n",
    "   CfC models resolve the bottleneck by approximating the closed form solution of the differential equation.\n",
    "\n",
    "\n",
    "_Both the LTC and the CfC models are recurrent neural networks and possess a temporal state. Therefore, these models are only applicable to sequential or time series data._"
   ]
  },
  {
   "cell_type": "markdown",
   "id": "5c8dfbc5-8064-4844-b538-a39eff2d3665",
   "metadata": {},
   "source": [
    "## Wirings\n",
    "\n",
    "- Fully Connected\n",
    "- Sparse structured wiring\n",
    "  1. Random\n",
    "  2. Neural Circuit Policy"
   ]
  },
  {
   "cell_type": "markdown",
   "id": "3d230b48-db12-496f-821b-f4426bcad031",
   "metadata": {},
   "source": [
    "![Wirings](wirings.webp)\n",
    "\n",
    "#### Fully Connected Wiring\n",
    "We can use both the models described above with a fully-connected wiring diagram by simply passing the number of neurons, as it is done in standard ML models such as LSTMs, GRUs, MLPs and Transformers."
   ]
  },
  {
   "cell_type": "code",
   "execution_count": 4,
   "id": "8be57dd5-f466-48a2-95c7-c763e34a0574",
   "metadata": {},
   "outputs": [],
   "source": [
    "from ncps.torch import CfC\n",
    "\n",
    "# a fully connected CfC network\n",
    "rnn = CfC(input_size=20, units=50)"
   ]
  },
  {
   "cell_type": "markdown",
   "id": "14e114d8-8c19-47b4-a8bb-ee6bcfae8779",
   "metadata": {},
   "source": [
    "#### Sparse Structured Wiring\n",
    "\n",
    "We can also specify sparse structured wirings in the form of a ```ncps.wirings.Wiring``` object. \n",
    "\n",
    "#### NCP\n",
    "The most interesting wiring paradigm provided in the package is the Neural Circuit Policy. It comprises of a 4-layer recurrent connection principle of the following neurons:\n",
    "1. Sensory\n",
    "2. Inter\n",
    "3. Command\n",
    "4. Motor\n",
    "\n",
    "The easiest way to create an NCP wiring is using the ```AutoNCP``` class, which requires defining the total number of neurons and the number of motor neurons (= output size)."
   ]
  },
  {
   "cell_type": "code",
   "execution_count": 5,
   "id": "2ea0dffb-434a-477e-8b03-1676009992d1",
   "metadata": {},
   "outputs": [],
   "source": [
    "from ncps.torch import CfC\n",
    "from ncps.wirings import AutoNCP\n",
    "\n",
    "wiring = AutoNCP(28,4)   # 28 neurons, 4 outputs\n",
    "input_size = 20\n",
    "rnn = CfC(input_size, wiring)"
   ]
  },
  {
   "cell_type": "markdown",
   "id": "7db2236e-a330-4904-9059-606a43a22c45",
   "metadata": {},
   "source": [
    "![Code Diagram](code_diagram.webp)"
   ]
  },
  {
   "cell_type": "code",
   "execution_count": null,
   "id": "b572d3fb-5bc4-42e6-84c0-01582a52b2f0",
   "metadata": {},
   "outputs": [],
   "source": []
  },
  {
   "cell_type": "code",
   "execution_count": null,
   "id": "2e7c18e7-b084-4e7b-92b3-5b1aac2be258",
   "metadata": {},
   "outputs": [],
   "source": []
  },
  {
   "cell_type": "code",
   "execution_count": null,
   "id": "6814b897-a22e-4e84-9401-9c649c98badb",
   "metadata": {},
   "outputs": [],
   "source": []
  },
  {
   "cell_type": "code",
   "execution_count": null,
   "id": "30c42526-b6bc-47b7-a418-001cf53ae985",
   "metadata": {},
   "outputs": [],
   "source": []
  },
  {
   "cell_type": "code",
   "execution_count": null,
   "id": "9351efb6-e645-42a0-8fa7-cf8d02e789fb",
   "metadata": {},
   "outputs": [],
   "source": []
  },
  {
   "cell_type": "code",
   "execution_count": null,
   "id": "635e0c00-4e5b-4503-946b-405662e2c5f2",
   "metadata": {},
   "outputs": [],
   "source": []
  },
  {
   "cell_type": "markdown",
   "id": "b80c4152-8bee-4f3f-a3ab-443d82dc7376",
   "metadata": {},
   "source": [
    "## References\n",
    "1. [ncps - Mathias Lechner Github Repo](https://github.com/mlech26l/ncps)\n",
    "2. [NCPs Docs](https://ncps.readthedocs.io/en/latest/index.html)"
   ]
  },
  {
   "cell_type": "code",
   "execution_count": null,
   "id": "9d98716c-1212-42dd-9fbd-37db34152e05",
   "metadata": {},
   "outputs": [],
   "source": []
  }
 ],
 "metadata": {
  "kernelspec": {
   "display_name": "Python 3 (ipykernel)",
   "language": "python",
   "name": "python3"
  },
  "language_info": {
   "codemirror_mode": {
    "name": "ipython",
    "version": 3
   },
   "file_extension": ".py",
   "mimetype": "text/x-python",
   "name": "python",
   "nbconvert_exporter": "python",
   "pygments_lexer": "ipython3",
   "version": "3.11.4"
  }
 },
 "nbformat": 4,
 "nbformat_minor": 5
}
