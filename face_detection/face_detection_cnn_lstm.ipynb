{
 "cells": [
  {
   "cell_type": "markdown",
   "id": "ea137aef-f37e-48b4-97fe-c9a2fad46668",
   "metadata": {},
   "source": [
    "# Face detection\n",
    "Using CNN + LSTM, which is LRCN."
   ]
  },
  {
   "cell_type": "markdown",
   "id": "d87aec5c-46b3-41fb-ab92-29b3831d415d",
   "metadata": {},
   "source": [
    "## Outline\n",
    "* Step 1: Assume you have a dataset of videos\n",
    "* Step 2: Preprocess the dataset\n",
    "* Step 3: Split the data into train and test dataset\n",
    "* Step 4: Implement the LRCN approach\n",
    "  * Step 4.1: Construct the model\n",
    "  * Step 4.2: Compile and train the model\n",
    "  * Step 4.3: Plot the model's loss and accuracy curves\n",
    "* Step 5: Test the model on a video\n",
    "* Step 6: Convert the model for camera"
   ]
  },
  {
   "cell_type": "code",
   "execution_count": 4,
   "id": "dd616907-e8c6-4e67-9da1-dd0b451ec28f",
   "metadata": {},
   "outputs": [],
   "source": [
    "# importing the modules\n",
    "import numpy as np\n",
    "import random\n",
    "import tensorflow as tf"
   ]
  },
  {
   "cell_type": "code",
   "execution_count": 5,
   "id": "27f2fe72-e8f8-4858-949c-e9d423658806",
   "metadata": {},
   "outputs": [],
   "source": [
    "# setting up numpy, python and tensorflow seeds\n",
    "# to get consistent results on every execution\n",
    "seed_constant = 25\n",
    "np.random.seed(seed_constant)           # numpy seed\n",
    "random.seed(seed_constant)              # python seed\n",
    "tf.random.set_seed(seed_constant)       # tensorflow seed"
   ]
  },
  {
   "cell_type": "markdown",
   "id": "b6d0d696-9cc0-4987-951a-7f2bd8f4cc13",
   "metadata": {},
   "source": [
    "## Step 2: Preprocess the dataset\n",
    "\n",
    "In this section we will create functions to preprocess the data. We will create a pipeline which we can later use to preprocess our frame data."
   ]
  },
  {
   "cell_type": "code",
   "execution_count": null,
   "id": "e50cf789-cc6c-470f-839b-32b11c98c509",
   "metadata": {},
   "outputs": [],
   "source": [
    "# Specifying hyperparameters as constants\n",
    "\n",
    "# specify the resolution to which each frame will be resized\n",
    "IMAGE_HEIGHT, IMAGE_WIDTH = 512, 512\n",
    "\n",
    "# specify the number of frames to be fed into model as one sequence\n",
    "SEQUENCE_LENGTH = 20"
   ]
  },
  {
   "cell_type": "code",
   "execution_count": null,
   "id": "d0d03406-1ab8-43b1-a5b3-e041af2cfd33",
   "metadata": {},
   "outputs": [],
   "source": [
    "def preprocess_frame((image_height, im)):\n",
    "    '''\n",
    "    This function takes one frame and outputs the preprocessed frame.\n",
    "    Args:\n",
    "        (image_height, image_width)\n",
    "    '''"
   ]
  },
  {
   "cell_type": "code",
   "execution_count": null,
   "id": "dd5ba42a-04c2-4da6-b7cb-05eaf58416af",
   "metadata": {},
   "outputs": [],
   "source": []
  },
  {
   "cell_type": "code",
   "execution_count": null,
   "id": "098d4ecb-10be-4e17-a3e9-402a1196f0c5",
   "metadata": {},
   "outputs": [],
   "source": []
  },
  {
   "cell_type": "code",
   "execution_count": null,
   "id": "46d9e7a6-5358-4241-81b6-4767fad657cd",
   "metadata": {},
   "outputs": [],
   "source": []
  },
  {
   "cell_type": "code",
   "execution_count": null,
   "id": "85a7590e-b6a8-4eaf-a476-1ce218259dfc",
   "metadata": {},
   "outputs": [],
   "source": []
  },
  {
   "cell_type": "code",
   "execution_count": null,
   "id": "da256042-0794-4c4b-a81b-5bf2bb90251e",
   "metadata": {},
   "outputs": [],
   "source": []
  },
  {
   "cell_type": "code",
   "execution_count": null,
   "id": "c048257e-336b-401a-b990-1646739489ce",
   "metadata": {},
   "outputs": [],
   "source": []
  },
  {
   "cell_type": "code",
   "execution_count": null,
   "id": "05f47978-e779-4197-ac1c-8c609cbd9c3c",
   "metadata": {},
   "outputs": [],
   "source": []
  },
  {
   "cell_type": "code",
   "execution_count": null,
   "id": "3defbcbe-d933-410d-8319-29c4b33e233a",
   "metadata": {},
   "outputs": [],
   "source": []
  },
  {
   "cell_type": "code",
   "execution_count": null,
   "id": "a4af33ff-d423-4068-afbb-136c34f99aa1",
   "metadata": {},
   "outputs": [],
   "source": []
  },
  {
   "cell_type": "code",
   "execution_count": null,
   "id": "4f30bec9-1526-448a-bcbc-e3e992309bde",
   "metadata": {},
   "outputs": [],
   "source": []
  }
 ],
 "metadata": {
  "kernelspec": {
   "display_name": "Python 3 (ipykernel)",
   "language": "python",
   "name": "python3"
  },
  "language_info": {
   "codemirror_mode": {
    "name": "ipython",
    "version": 3
   },
   "file_extension": ".py",
   "mimetype": "text/x-python",
   "name": "python",
   "nbconvert_exporter": "python",
   "pygments_lexer": "ipython3",
   "version": "3.11.4"
  }
 },
 "nbformat": 4,
 "nbformat_minor": 5
}
