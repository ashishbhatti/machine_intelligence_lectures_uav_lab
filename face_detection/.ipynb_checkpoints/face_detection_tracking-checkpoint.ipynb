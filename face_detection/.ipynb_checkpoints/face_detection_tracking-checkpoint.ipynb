{
 "cells": [
  {
   "cell_type": "markdown",
   "id": "3bed841b-d133-4c3f-a004-30276b1526c8",
   "metadata": {},
   "source": [
    "## Yaw alignment based on the position of the face"
   ]
  },
  {
   "cell_type": "code",
   "execution_count": 7,
   "id": "c3fcb230-53ab-447e-bdbf-9bc4ad4135a6",
   "metadata": {},
   "outputs": [],
   "source": [
    "import cv2\n",
    "import numpy as np\n",
    "\n",
    "w, h = 360, 240\n",
    "fbRange = [6200, 6800]\n",
    "pid = [0.4, 0.4, 0]\n",
    "pError = 0"
   ]
  },
  {
   "cell_type": "code",
   "execution_count": 2,
   "id": "25a23b5d-8f05-439a-9230-82732ada474e",
   "metadata": {},
   "outputs": [],
   "source": [
    "def findFace(img):\n",
    "    faceCascade = cv2.CascadeClassifier(cv2.data.haarcascades + 'haarcascade_frontalface_default.xml')\n",
    "    imgGray = cv2.cvtColor(img, cv2.COLOR_BGR2GRAY)\n",
    "    faces = faceCascade.detectMultiScale(imgGray, 1.2, 8)\n",
    "\n",
    "    myFaceListC = []               # info of center point\n",
    "    myFaceListArea = []\n",
    "\n",
    "    for (x,y,w,h) in faces:\n",
    "        cv2.rectangle(img, (x,y), (x+w, y+h), (0,0,255), 2)\n",
    "        cx = x + w//2\n",
    "        cy = y + h//2\n",
    "        area = w * h\n",
    "        cv2.circle(img, (cx, cy), 5, (0,255,0), cv2.FILLED)\n",
    "        myFaceListC.append([cx, cy])\n",
    "        myFaceListArea.append(area)\n",
    "\n",
    "    if len(myFaceListArea) != 0:\n",
    "        i = myFaceListArea.index(max(myFaceListArea))\n",
    "        return img, [myFaceListC[i], myFaceListArea[i]]\n",
    "    else:\n",
    "        return img, [[0,0], 0]"
   ]
  },
  {
   "cell_type": "code",
   "execution_count": 3,
   "id": "e3bf54ad-737e-4f2e-ab6c-ac6202164543",
   "metadata": {},
   "outputs": [],
   "source": [
    "import cvlib\n",
    "\n",
    "def findFaceResnet(img):\n",
    "    \n",
    "    # Perform face detection\n",
    "    faces, confidences = cvlib.detect_face(img)\n",
    "\n",
    "    myFaceListC = []               # info of center point\n",
    "    myFaceListArea = []\n",
    "\n",
    "    for (x1,y1,x2,y2) in faces:\n",
    "        cv2.rectangle(img, (x1,y1), (x2, y2), (0,0,255), 2)\n",
    "        cx = (x1 + x2)//2\n",
    "        cy = (y1 + y2)//2\n",
    "        area = (x2-x1) * (y2-y1)\n",
    "        cv2.circle(img, (cx, cy), 5, (0,255,0), cv2.FILLED)\n",
    "        myFaceListC.append([cx, cy])\n",
    "        myFaceListArea.append(area)\n",
    "\n",
    "    if len(myFaceListArea) != 0:\n",
    "        i = myFaceListArea.index(max(myFaceListArea))\n",
    "        return img, [myFaceListC[i], myFaceListArea[i]]\n",
    "    else:\n",
    "        return img, [[0,0], 0]"
   ]
  },
  {
   "cell_type": "code",
   "execution_count": 4,
   "id": "be449bbf-4f8e-4ebf-828f-b2a19ebe886b",
   "metadata": {},
   "outputs": [],
   "source": [
    "# def trackFace(me, info, w, pid, pError):\n",
    "def trackFace(info, w, pid, pError):\n",
    "    area = info[1]\n",
    "    x, y = info[0]\n",
    "    fb = 0\n",
    "    \n",
    "    # pid for the angle\n",
    "    error = x - w//2    # w is width of the image, x is face center\n",
    "    speed = pid[0]*error + pid[1]*(error - pError)\n",
    "    speed = int(np.clip(speed, -100, 100))    # clip the speed between -100 and 100\n",
    "    \n",
    "    \n",
    "    # Forward backward movement based on area of bounding box\n",
    "    if area > fbRange[0] and area < fbRange[1]:\n",
    "        fb = 0\n",
    "    elif area > fbRange[1]:\n",
    "        fb=-20    # go back\n",
    "    elif area < fbRange[0] and area != 0:\n",
    "        fb = 20   # go forward\n",
    "\n",
    "    if x == 0:\n",
    "        speed = 0\n",
    "        error = 0\n",
    "    \n",
    "    # print(speed, fb)\n",
    "    # send commands to drone\n",
    "    # me.send_rc_control(0, fb, 0, speed)    # 4th one is yaw which is speed\n",
    "    return error, speed, fb"
   ]
  },
  {
   "cell_type": "code",
   "execution_count": 9,
   "id": "39c5b35a-c8d2-4feb-981e-58ee59a6cebe",
   "metadata": {},
   "outputs": [],
   "source": [
    "cap = cv2.VideoCapture(1)\n",
    "\n",
    "while True:\n",
    "    _, img = cap.read()\n",
    "    img = cv2.resize(img, (w, h))\n",
    "    img, info = findFace(img)\n",
    "    # pError = trackFace(me, info, w, pid, pError)\n",
    "    pError, speed, fb = trackFace(info, w, pid, pError)\n",
    "    # print(\"Center:\", info[0], \"Area:\", info[1])\n",
    "    cv2.putText(img, f'yaw: {speed}, fb: {fb}', (10, 20), cv2.FONT_HERSHEY_SIMPLEX, 0.5, (255, 0, 0), 2)\n",
    "    cv2.imshow(\"Output\", img)\n",
    "    if cv2.waitKey(1) & 0xFF == ord('q'):\n",
    "        break\n",
    "\n",
    "cap.release()\n",
    "cv2.destroyAllWindows()"
   ]
  },
  {
   "cell_type": "code",
   "execution_count": 21,
   "id": "9dcee440-799c-4ffd-95d1-7a9883d07730",
   "metadata": {},
   "outputs": [],
   "source": [
    "cap.release()\n",
    "cv2.destroyAllWindows()"
   ]
  }
 ],
 "metadata": {
  "kernelspec": {
   "display_name": "Python 3 (ipykernel)",
   "language": "python",
   "name": "python3"
  },
  "language_info": {
   "codemirror_mode": {
    "name": "ipython",
    "version": 3
   },
   "file_extension": ".py",
   "mimetype": "text/x-python",
   "name": "python",
   "nbconvert_exporter": "python",
   "pygments_lexer": "ipython3",
   "version": "3.11.4"
  }
 },
 "nbformat": 4,
 "nbformat_minor": 5
}
