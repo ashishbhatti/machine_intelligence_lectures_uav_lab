{
 "cells": [
  {
   "cell_type": "markdown",
   "id": "dc8c2007-bba5-49c1-a1fa-1f54f0a5d46c",
   "metadata": {},
   "source": [
    "# Code\n",
    "This notebook contains all the codes I have written, as part of the series, and which I plan to reference for my project.\n"
   ]
  },
  {
   "cell_type": "code",
   "execution_count": 10,
   "id": "15d998fe-af5d-4ca4-a110-c2904d68dc5a",
   "metadata": {},
   "outputs": [],
   "source": [
    "import numpy as np\n",
    "import matplotlib.pyplot as plt"
   ]
  },
  {
   "cell_type": "markdown",
   "id": "89f28728-5c9c-447a-a382-8e2ad7040cd4",
   "metadata": {},
   "source": [
    "## Activation Functions\n",
    "1. sigmoid\n",
    "2. tanh\n",
    "3. relu\n",
    "4. leaky relu\n",
    "5. softplus\n",
    "6. softmax"
   ]
  },
  {
   "cell_type": "code",
   "execution_count": 12,
   "id": "c14a7929-d6ee-459e-8adb-ec566798ae5e",
   "metadata": {},
   "outputs": [],
   "source": [
    "# Compute sigmoid\n",
    "def sigmoid(x):\n",
    "    result = 1/(1+np.exp(-x))\n",
    "    return result\n",
    "\n",
    "# # Plotting to test\n",
    "# x = np.linspace(-10,10)    # Generates an array of equally spaced values between a specfic interval, default is 50 values\n",
    "# y = sigmoid(x)\n",
    "\n",
    "# plt.plot(x,y)\n",
    "# plt.show"
   ]
  },
  {
   "cell_type": "code",
   "execution_count": 14,
   "id": "5ae57390-1126-4a4a-be50-47e796582a91",
   "metadata": {},
   "outputs": [],
   "source": [
    "# Compute tanh\n",
    "def tanh_activation(x):\n",
    "    result = np.tanh(x)\n",
    "    return result\n",
    "\n",
    "# # Plotting to test\n",
    "# x = np.linspace(-10,10)    \n",
    "# y = tanh_activation(x)\n",
    "\n",
    "# plt.plot(x,y)\n",
    "# plt.show"
   ]
  },
  {
   "cell_type": "code",
   "execution_count": 16,
   "id": "181be92b-df14-45ed-ac70-ae965a05affc",
   "metadata": {},
   "outputs": [],
   "source": [
    "# Compute relu\n",
    "def relu(x):\n",
    "    result = np.maximum(0,x)\n",
    "    return result\n",
    "\n",
    "# # Plotting to test\n",
    "# x = np.linspace(-10,10)    \n",
    "# y = relu(x)\n",
    "\n",
    "# plt.plot(x,y)\n",
    "# plt.show"
   ]
  },
  {
   "cell_type": "code",
   "execution_count": 32,
   "id": "1bbd52c8-3d5d-4e16-8dad-c8109babbb18",
   "metadata": {},
   "outputs": [],
   "source": [
    "# Compute leaky_relu\n",
    "def leaky_relu(x, alpha=0.01):\n",
    "    result = np.where(x > 0, x, alpha * x)\n",
    "    return result\n",
    "\n",
    "# # Plotting to test\n",
    "# x = np.linspace(-10,10)    \n",
    "# y = leaky_relu(x)\n",
    "\n",
    "# plt.plot(x,y)\n",
    "# plt.show"
   ]
  },
  {
   "cell_type": "code",
   "execution_count": 18,
   "id": "a43823fa-b497-4c7b-bf71-447ee1427741",
   "metadata": {},
   "outputs": [],
   "source": [
    "# Compute softplus, (~ smooth version of relu)\n",
    "def softplus(x):\n",
    "    result = np.log(1 + np.exp(x))\n",
    "    return result\n",
    "\n",
    "# # Plotting to test\n",
    "# x = np.linspace(-10,10)    \n",
    "# y = softplus(x)\n",
    "\n",
    "# plt.plot(x,y)\n",
    "# plt.show"
   ]
  },
  {
   "cell_type": "code",
   "execution_count": 40,
   "id": "2bf32b57-ae71-43f7-a997-acc18dd3efa8",
   "metadata": {},
   "outputs": [],
   "source": [
    "# Comput softmax\n",
    "'''\n",
    "In summary, Softmax is primarily used in output layer for multi-class classification while \n",
    "Softplus is a non-linear activation function used in hidden layers for general neural network architectures.\n",
    "'''\n",
    "\n",
    "def softmax(x):\n",
    "    ex = np.exp(x)\n",
    "    result = ex / ex.sum()\n",
    "    return result\n",
    "\n",
    "# # Plotting to test\n",
    "# x = np.linspace(1,5)    \n",
    "# y = softmax(x)\n",
    "\n",
    "# plt.plot(x,y)\n",
    "# plt.show"
   ]
  },
  {
   "cell_type": "markdown",
   "id": "0da04fe9-c672-4d0e-b9a3-bdc9df86dd34",
   "metadata": {},
   "source": [
    "## Forward Pass"
   ]
  },
  {
   "cell_type": "code",
   "execution_count": null,
   "id": "4dc87928-d88f-4bf6-b939-2a73c46cf5ff",
   "metadata": {},
   "outputs": [],
   "source": []
  },
  {
   "cell_type": "markdown",
   "id": "5b8c44c0-5ac1-4e69-b219-1611b29c17b4",
   "metadata": {},
   "source": [
    "## Good References\n",
    "1. Activation Functions: https://paperswithcode.com/methods/category/activation-functions"
   ]
  },
  {
   "cell_type": "markdown",
   "id": "dac8c6d0-d70f-4bc8-afb7-3385138c8c45",
   "metadata": {},
   "source": []
  }
 ],
 "metadata": {
  "kernelspec": {
   "display_name": "Python 3 (ipykernel)",
   "language": "python",
   "name": "python3"
  },
  "language_info": {
   "codemirror_mode": {
    "name": "ipython",
    "version": 3
   },
   "file_extension": ".py",
   "mimetype": "text/x-python",
   "name": "python",
   "nbconvert_exporter": "python",
   "pygments_lexer": "ipython3",
   "version": "3.11.4"
  }
 },
 "nbformat": 4,
 "nbformat_minor": 5
}
