{
 "cells": [
  {
   "cell_type": "markdown",
   "id": "25b2a2a0-0c2b-47ff-8f4d-a0e22e8dce76",
   "metadata": {},
   "source": [
    "# Load Video Data\n",
    "\n",
    "This tutorial demonstrates:\n",
    "1. how to load and\n",
    "2. preprocess\n",
    "   \n",
    "AVI video data using the [UCF101 human action dataset](https://www.tensorflow.org/datasets/catalog/ucf101)."
   ]
  },
  {
   "cell_type": "markdown",
   "id": "9e5a4599-5823-4b7b-92cf-63530b40d265",
   "metadata": {},
   "source": [
    "**About the dataset:** \\\n",
    "The original datset contains realistic action videos collected from Youtube with 101 categories (playing cello, brushing teeth, applying eye makeup and, many more).\n",
    "\n",
    "**What we will learn:** \n",
    "1. Load the data from a zip file\n",
    "2. Read sequences of frames from video files\n",
    "3. Visualize video data\n",
    "4. Wrap the frame generator `tf.data.Dataset`"
   ]
  },
  {
   "cell_type": "code",
   "execution_count": null,
   "id": "0d4f06cb-142c-4dd6-91f2-eb5506321556",
   "metadata": {},
   "outputs": [],
   "source": []
  },
  {
   "cell_type": "code",
   "execution_count": null,
   "id": "0fd9f060-74a9-4a3c-95c9-13bdbbd68599",
   "metadata": {},
   "outputs": [],
   "source": []
  },
  {
   "cell_type": "code",
   "execution_count": null,
   "id": "0e80795c-d8a4-42d7-81f3-5d77f2e23d78",
   "metadata": {},
   "outputs": [],
   "source": []
  },
  {
   "cell_type": "code",
   "execution_count": null,
   "id": "dd672548-cd5c-411f-b0c8-626e7ae6a48d",
   "metadata": {},
   "outputs": [],
   "source": []
  },
  {
   "cell_type": "code",
   "execution_count": null,
   "id": "9154ff3e-c85c-4e4b-a8ef-0f7910f757af",
   "metadata": {},
   "outputs": [],
   "source": []
  },
  {
   "cell_type": "code",
   "execution_count": null,
   "id": "919c2b73-55f3-4c29-a9a7-61bbc63f5fc1",
   "metadata": {},
   "outputs": [],
   "source": []
  },
  {
   "cell_type": "code",
   "execution_count": null,
   "id": "fcedf570-201f-46a6-b608-14f2af629329",
   "metadata": {},
   "outputs": [],
   "source": []
  },
  {
   "cell_type": "code",
   "execution_count": null,
   "id": "a0b98da2-dc47-4e1c-80ff-9368e3aa5bc3",
   "metadata": {},
   "outputs": [],
   "source": []
  },
  {
   "cell_type": "code",
   "execution_count": null,
   "id": "2ce3eed8-ff7e-4eab-a77b-e7c0d0e33e74",
   "metadata": {},
   "outputs": [],
   "source": []
  },
  {
   "cell_type": "code",
   "execution_count": null,
   "id": "261997d2-bdfb-4670-a7e4-d5e372aa4201",
   "metadata": {},
   "outputs": [],
   "source": []
  },
  {
   "cell_type": "code",
   "execution_count": null,
   "id": "52508926-241e-4f0f-ab9e-b0ea66ff9358",
   "metadata": {},
   "outputs": [],
   "source": []
  },
  {
   "cell_type": "code",
   "execution_count": null,
   "id": "9ad4342c-f1f1-4a00-87e1-33f4f8ec936b",
   "metadata": {},
   "outputs": [],
   "source": []
  },
  {
   "cell_type": "code",
   "execution_count": null,
   "id": "6256ca17-585f-4bb2-a8fd-164e9ae53758",
   "metadata": {},
   "outputs": [],
   "source": []
  }
 ],
 "metadata": {
  "kernelspec": {
   "display_name": "Python 3 (ipykernel)",
   "language": "python",
   "name": "python3"
  },
  "language_info": {
   "codemirror_mode": {
    "name": "ipython",
    "version": 3
   },
   "file_extension": ".py",
   "mimetype": "text/x-python",
   "name": "python",
   "nbconvert_exporter": "python",
   "pygments_lexer": "ipython3",
   "version": "3.11.4"
  }
 },
 "nbformat": 4,
 "nbformat_minor": 5
}
