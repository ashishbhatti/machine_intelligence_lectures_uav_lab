{
 "cells": [
  {
   "cell_type": "markdown",
   "id": "25b2a2a0-0c2b-47ff-8f4d-a0e22e8dce76",
   "metadata": {},
   "source": [
    "# Load Video Data\n",
    "\n",
    "This tutorial demonstrates:\n",
    "1. how to load and\n",
    "2. preprocess\n",
    "   \n",
    "AVI video data using the [UCF101 human action dataset](https://www.tensorflow.org/datasets/catalog/ucf101)."
   ]
  },
  {
   "cell_type": "markdown",
   "id": "9e5a4599-5823-4b7b-92cf-63530b40d265",
   "metadata": {},
   "source": [
    "**About the dataset:** \\\n",
    "The original datset contains realistic action videos collected from Youtube with 101 categories (playing cello, brushing teeth, applying eye makeup and, many more).\n",
    "\n",
    "**What we will learn:** \n",
    "1. Load the data from a zip file\n",
    "2. Read sequences of frames from video files\n",
    "3. Visualize video data\n",
    "4. Wrap the frame generator `tf.data.Dataset`"
   ]
  },
  {
   "cell_type": "code",
   "execution_count": 3,
   "id": "0d4f06cb-142c-4dd6-91f2-eb5506321556",
   "metadata": {},
   "outputs": [
    {
     "name": "stdout",
     "output_type": "stream",
     "text": [
      "Looking in indexes: https://pypi.org/simple, https://pypi.ngc.nvidia.com\n",
      "Requirement already satisfied: remotezip in c:\\users\\asish\\appdata\\local\\programs\\python\\python311\\lib\\site-packages (0.12.1)\n",
      "Requirement already satisfied: tqdm in c:\\users\\asish\\appdata\\local\\programs\\python\\python311\\lib\\site-packages (4.66.1)\n",
      "Requirement already satisfied: opencv-python in c:\\users\\asish\\appdata\\local\\programs\\python\\python311\\lib\\site-packages (4.8.0.76)\n",
      "Requirement already satisfied: requests in c:\\users\\asish\\appdata\\local\\programs\\python\\python311\\lib\\site-packages (from remotezip) (2.31.0)\n",
      "Requirement already satisfied: tabulate in c:\\users\\asish\\appdata\\local\\programs\\python\\python311\\lib\\site-packages (from remotezip) (0.9.0)\n",
      "Requirement already satisfied: colorama in c:\\users\\asish\\appdata\\local\\programs\\python\\python311\\lib\\site-packages (from tqdm) (0.4.6)\n",
      "Requirement already satisfied: numpy>=1.21.2 in c:\\users\\asish\\appdata\\local\\programs\\python\\python311\\lib\\site-packages (from opencv-python) (1.24.3)\n",
      "Requirement already satisfied: charset-normalizer<4,>=2 in c:\\users\\asish\\appdata\\local\\programs\\python\\python311\\lib\\site-packages (from requests->remotezip) (3.2.0)\n",
      "Requirement already satisfied: idna<4,>=2.5 in c:\\users\\asish\\appdata\\local\\programs\\python\\python311\\lib\\site-packages (from requests->remotezip) (3.4)\n",
      "Requirement already satisfied: urllib3<3,>=1.21.1 in c:\\users\\asish\\appdata\\local\\programs\\python\\python311\\lib\\site-packages (from requests->remotezip) (1.26.16)\n",
      "Requirement already satisfied: certifi>=2017.4.17 in c:\\users\\asish\\appdata\\local\\programs\\python\\python311\\lib\\site-packages (from requests->remotezip) (2023.7.22)\n"
     ]
    }
   ],
   "source": [
    "## installing required libraries\n",
    "# remotezip to inspect the contents of a zip file\n",
    "# tqdm to use a progress bar\n",
    "# opencv to process video files\n",
    "# tensorflow_docs for embedding data in a jupyter notebook\n",
    "\n",
    "!pip install remotezip tqdm opencv-python\n",
    "!pip install -q git+https://github.com/tensorflow/docs"
   ]
  },
  {
   "cell_type": "code",
   "execution_count": 4,
   "id": "0fd9f060-74a9-4a3c-95c9-13bdbbd68599",
   "metadata": {},
   "outputs": [],
   "source": [
    "# importing the required libraries\n",
    "import tqdm\n",
    "import random\n",
    "import pathlib\n",
    "import itertools\n",
    "import collections\n",
    "\n",
    "import os\n",
    "import cv2\n",
    "import numpy as np\n",
    "import remotezip as rz\n",
    "\n",
    "import tensorflow as tf\n",
    "\n",
    "# some modules to display an animation using imageio\n",
    "import imageio\n",
    "from IPython import display\n",
    "from urllib import request\n",
    "from tensorflow_docs.vis import embed"
   ]
  },
  {
   "cell_type": "code",
   "execution_count": 5,
   "id": "0e80795c-d8a4-42d7-81f3-5d77f2e23d78",
   "metadata": {},
   "outputs": [],
   "source": [
    "# Download a subset of the categories\n",
    "# UCF101 dataset contains 101 categories of different actions.\n",
    "# we will use only a subset in this demonstration\n",
    "\n",
    "URL = 'https://storage.googleapis.com/thumos14_files/UCF101_videos.zip'"
   ]
  },
  {
   "cell_type": "code",
   "execution_count": 13,
   "id": "dd672548-cd5c-411f-b0c8-626e7ae6a48d",
   "metadata": {},
   "outputs": [],
   "source": [
    "# The above URL contains a zip file.\n",
    "# We can remotely examine the contents of this zip file, like this\n",
    "\n",
    "def list_files_from_zip_url(zip_url):\n",
    "    '''\n",
    "    List the files in each class (category) of the dataset, \n",
    "    given a URL with the zip file.\n",
    "\n",
    "    Args:\n",
    "    zip_url: A URL from which the files can be extracted from\n",
    "\n",
    "    Returns:\n",
    "    List of files in each of the classes.\n",
    "    '''\n",
    "    files = []\n",
    "    with rz.RemoteZip(zip_url) as zip:\n",
    "        for zip_info in zip.infolist():\n",
    "            files.append(zip_info.filename)\n",
    "    return files\n",
    "\n",
    "\n",
    "files = list_files_from_zip_url(URL)"
   ]
  },
  {
   "cell_type": "code",
   "execution_count": 17,
   "id": "9154ff3e-c85c-4e4b-a8ef-0f7910f757af",
   "metadata": {},
   "outputs": [
    {
     "name": "stdout",
     "output_type": "stream",
     "text": [
      "Number of video files:  13320\n"
     ]
    },
    {
     "data": {
      "text/plain": [
       "['UCF101/v_ApplyEyeMakeup_g01_c01.avi',\n",
       " 'UCF101/v_ApplyEyeMakeup_g01_c02.avi',\n",
       " 'UCF101/v_ApplyEyeMakeup_g01_c03.avi',\n",
       " 'UCF101/v_ApplyEyeMakeup_g01_c04.avi',\n",
       " 'UCF101/v_ApplyEyeMakeup_g01_c05.avi',\n",
       " 'UCF101/v_ApplyEyeMakeup_g01_c06.avi',\n",
       " 'UCF101/v_ApplyEyeMakeup_g02_c01.avi',\n",
       " 'UCF101/v_ApplyEyeMakeup_g02_c02.avi',\n",
       " 'UCF101/v_ApplyEyeMakeup_g02_c03.avi',\n",
       " 'UCF101/v_ApplyEyeMakeup_g02_c04.avi']"
      ]
     },
     "execution_count": 17,
     "metadata": {},
     "output_type": "execute_result"
    }
   ],
   "source": [
    "files = [f for f in files if f.endswith('.avi')]\n",
    "print(\"Number of video files: \", len(files))\n",
    "files[:10]"
   ]
  },
  {
   "cell_type": "markdown",
   "id": "d3ada0c7-de58-4cd2-b0c2-7b8c22281c0c",
   "metadata": {},
   "source": [
    "Note from the above filenames that the classname is included in the filename of each video.\n",
    "\n",
    "So, we need to extract the classname from the filename, for this we define a function called `get_class`."
   ]
  },
  {
   "cell_type": "code",
   "execution_count": 18,
   "id": "fcedf570-201f-46a6-b608-14f2af629329",
   "metadata": {},
   "outputs": [],
   "source": [
    "def get_class(filename):\n",
    "    '''\n",
    "    Retrieves the name of the class given file belongs to.\n",
    "\n",
    "    Args:\n",
    "    filename: Name of the file in the UCF101 dataset\n",
    "\n",
    "    Returns:\n",
    "    Class that the file belongs to\n",
    "    '''\n",
    "    return filename.split('_')[-3]"
   ]
  },
  {
   "cell_type": "markdown",
   "id": "855f93a8-c5e8-442d-ba34-95495ce08341",
   "metadata": {},
   "source": [
    "We also need to know which files belong to which class, and in a format we can easily use. Hence, we create function called `get_files_per_class` which converts the list of all files into a dictionary listing the files for each class."
   ]
  },
  {
   "cell_type": "code",
   "execution_count": null,
   "id": "2ce3eed8-ff7e-4eab-a77b-e7c0d0e33e74",
   "metadata": {},
   "outputs": [],
   "source": [
    "def get_files_per_class(files):\n",
    "    '''\n",
    "    Retrieve the files that belong to each class.\n",
    "\n",
    "    Args:\n",
    "    files: list of files in the dataset\n",
    "\n",
    "    Returns:\n",
    "    a dictionary of class names (key) and files (values).\n",
    "    '''\n",
    "    files_for_class = collections.defaultdict(list)"
   ]
  },
  {
   "cell_type": "code",
   "execution_count": null,
   "id": "261997d2-bdfb-4670-a7e4-d5e372aa4201",
   "metadata": {},
   "outputs": [],
   "source": []
  },
  {
   "cell_type": "code",
   "execution_count": null,
   "id": "52508926-241e-4f0f-ab9e-b0ea66ff9358",
   "metadata": {},
   "outputs": [],
   "source": []
  },
  {
   "cell_type": "code",
   "execution_count": null,
   "id": "9ad4342c-f1f1-4a00-87e1-33f4f8ec936b",
   "metadata": {},
   "outputs": [],
   "source": []
  },
  {
   "cell_type": "code",
   "execution_count": null,
   "id": "6256ca17-585f-4bb2-a8fd-164e9ae53758",
   "metadata": {},
   "outputs": [],
   "source": []
  }
 ],
 "metadata": {
  "kernelspec": {
   "display_name": "Python 3 (ipykernel)",
   "language": "python",
   "name": "python3"
  },
  "language_info": {
   "codemirror_mode": {
    "name": "ipython",
    "version": 3
   },
   "file_extension": ".py",
   "mimetype": "text/x-python",
   "name": "python",
   "nbconvert_exporter": "python",
   "pygments_lexer": "ipython3",
   "version": "3.11.4"
  }
 },
 "nbformat": 4,
 "nbformat_minor": 5
}
