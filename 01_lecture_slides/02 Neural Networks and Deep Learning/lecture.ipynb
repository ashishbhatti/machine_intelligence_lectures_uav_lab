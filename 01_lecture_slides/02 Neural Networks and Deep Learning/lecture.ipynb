{
 "cells": [
  {
   "cell_type": "markdown",
   "id": "feb1e7d9-1f66-4d74-b96d-f994119774b9",
   "metadata": {},
   "source": [
    "# Neural Networks and Deep Learning"
   ]
  },
  {
   "cell_type": "markdown",
   "id": "c97dd472-1ced-4163-8c91-22e255b1d4b2",
   "metadata": {},
   "source": [
    "## 1. History"
   ]
  },
  {
   "attachments": {},
   "cell_type": "markdown",
   "id": "b6d9e654-98d3-40c5-98ef-d9bd59c9a5d9",
   "metadata": {},
   "source": [
    "**Where does intelligence and learning come from?** \\\n",
    "In order to mimic human intelligence, researchers started looking at the neuronal circuitry in the brain. Human brain has close to 90 billion neurons, interconnected in neuronal pathways. The cells in brain are different from other cells in the body. \n",
    "\n",
    "The so called neurons look like this:\n",
    "| Image of human neuron | Image of neurons in macaque |\n",
    "| --- | --- |\n",
    "|![Photo by Bob Jacobs, Colorado College.](./resources/golgi2.jpg)| ![Photo by BrainMaps.org](./resources/smi32-macaque.jpg) |\n",
    "| This is the picture of an actual human neuron (neocortical pyramidal neuron, stained via Golgi technique). <br/> [Photo by Bob Jacobs, Colorado College.](https://en.wikipedia.org/wiki/Golgi%27s_method#/media/File:GolgiStainedPyramidalCell.jpg) <br/> Golgi's method stains a limited number of cells at random using silver chromate reaction.  It is still not known why a certain cell would undergo the reaction while a cell right next to it would not. The result is that the morphology of the cells can be clearly seen without contamination from nearby dendrites from other cells. Read more at [1](https://cellularscale.blogspot.com/2012/03/seeing-cells-nissl-and-golgi-together.html),[2](https://embryo.asu.edu/pages/neuron-doctrine-1860-1895). | SMI32-immunoreactive pyramidal neuron in medial prefrontal cortex of macaque. <br/> [Photo by BrainMaps.org](https://brainmaps.org/index.php?p=screenshots)|\n",
    "\n",
    "The structure of a neuron is the following: \\\n",
    "![Photo by BruceBlaus](./resources/blausen_multipolarneuron.png) \\\n",
    "The neuron is essentially a computation unit which performs the following operations: \n",
    "1. **Input reception**: receives input from other neurons the synapses located on its dendrites, these inputs can be excitatory (increases the likelihood of neuron firing) or inhibitory (decreasing the likelihood).\n",
    "2. **Signal integration**: the cell body integrates these incoming inputs and computes a response. \n",
    "3. **Signal transmission**: If this response exceeds a certain threshold, the neuron generates an electrical signal called action potential which travels via its axon.\n",
    "4. **Output release**: When the action potential reaches the end of the axon, it triggers the release of neurotransmitters in the synaptic gap. These neurotransmitters then bind to the receptors on the dendrites of adjascent neurons, thereby transmitting the signal.\n",
    "\n",
    "It is important to note that this is a simplification. The neurons used in neural networks today are modelled after this simplified explanation, which the neuroscientists from 1950s were familiar with. Still, the neural networks perform really well.\n",
    "\n",
    "**How to model an artificial neuron after a biological neuron?** \\\n",
    "An artificial neuron should perform these 4 operations as well. \n",
    "![Photo by ashishbhatti](./resources/artificial_neuron.png)\n",
    "\n",
    "An artificial neuron does the following:\n",
    "1. It receives input from multiple other neurons, say n.\n",
    "   It multiplies each input with a weight, increasing / decreasing input significance.\n",
    "   (Trying to mimic the excitatory / inhibitory effect).\n",
    "3. It sums these weighed inputs and adds a bias, also known as threshold.\n",
    "   $$result, z = \\sum_{i=1}^{n} w_ix_i  + b$$\n",
    "4. The result is passed on to an activation function, which produces an output.\n",
    "   $$y = f(z)$$\n",
    "6. The output is released to other neurons or as general output.\n",
    "\n",
    "**The weights are learned during the training process.**"
   ]
  },
  {
   "cell_type": "code",
   "execution_count": null,
   "id": "ef1f2a0b-1545-4b22-9cd3-d9341cb7c4da",
   "metadata": {},
   "outputs": [],
   "source": []
  },
  {
   "cell_type": "code",
   "execution_count": null,
   "id": "f8d7b3a6-a770-4803-8661-492a2f470a8d",
   "metadata": {},
   "outputs": [],
   "source": []
  },
  {
   "cell_type": "code",
   "execution_count": null,
   "id": "e43e03a7-b24a-43eb-b93c-c2ee971fcf7c",
   "metadata": {},
   "outputs": [],
   "source": []
  },
  {
   "cell_type": "code",
   "execution_count": null,
   "id": "969c8c47-62f2-4c02-8366-4454d270b7f1",
   "metadata": {},
   "outputs": [],
   "source": []
  },
  {
   "cell_type": "code",
   "execution_count": null,
   "id": "081c1454-6306-4c33-a5e0-d70e278be6ad",
   "metadata": {},
   "outputs": [],
   "source": []
  },
  {
   "cell_type": "code",
   "execution_count": null,
   "id": "dcc8aa28-d105-4af7-bbe6-6812d43440ff",
   "metadata": {},
   "outputs": [],
   "source": []
  },
  {
   "cell_type": "code",
   "execution_count": null,
   "id": "a80b4017-5ace-4a4e-bb9d-b5a7b08d7f2d",
   "metadata": {},
   "outputs": [],
   "source": []
  }
 ],
 "metadata": {
  "kernelspec": {
   "display_name": "Python 3 (ipykernel)",
   "language": "python",
   "name": "python3"
  },
  "language_info": {
   "codemirror_mode": {
    "name": "ipython",
    "version": 3
   },
   "file_extension": ".py",
   "mimetype": "text/x-python",
   "name": "python",
   "nbconvert_exporter": "python",
   "pygments_lexer": "ipython3",
   "version": "3.11.4"
  }
 },
 "nbformat": 4,
 "nbformat_minor": 5
}
