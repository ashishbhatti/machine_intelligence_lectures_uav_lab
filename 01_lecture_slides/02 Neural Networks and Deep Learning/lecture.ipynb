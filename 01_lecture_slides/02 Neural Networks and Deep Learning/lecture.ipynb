{
 "cells": [
  {
   "cell_type": "markdown",
   "id": "feb1e7d9-1f66-4d74-b96d-f994119774b9",
   "metadata": {},
   "source": [
    "# Neural Networks and Deep Learning"
   ]
  },
  {
   "cell_type": "markdown",
   "id": "c97dd472-1ced-4163-8c91-22e255b1d4b2",
   "metadata": {},
   "source": [
    "## 1. History"
   ]
  },
  {
   "cell_type": "markdown",
   "id": "b6d9e654-98d3-40c5-98ef-d9bd59c9a5d9",
   "metadata": {},
   "source": [
    "Where does intelligence and learning come from?\n",
    "In order to mimic human intelligence, researchers started looking at the neuronal circuitry in the brain. Human brain has close to 90 billion neurons, interconnected in neuronal pathways. The cells in brain are different from other cells in the body. The so called neurons have the following structure:\n"
   ]
  },
  {
   "cell_type": "code",
   "execution_count": null,
   "id": "ef1f2a0b-1545-4b22-9cd3-d9341cb7c4da",
   "metadata": {},
   "outputs": [],
   "source": []
  },
  {
   "cell_type": "code",
   "execution_count": null,
   "id": "f8d7b3a6-a770-4803-8661-492a2f470a8d",
   "metadata": {},
   "outputs": [],
   "source": []
  },
  {
   "cell_type": "code",
   "execution_count": null,
   "id": "e43e03a7-b24a-43eb-b93c-c2ee971fcf7c",
   "metadata": {},
   "outputs": [],
   "source": []
  },
  {
   "cell_type": "code",
   "execution_count": null,
   "id": "969c8c47-62f2-4c02-8366-4454d270b7f1",
   "metadata": {},
   "outputs": [],
   "source": []
  },
  {
   "cell_type": "code",
   "execution_count": null,
   "id": "081c1454-6306-4c33-a5e0-d70e278be6ad",
   "metadata": {},
   "outputs": [],
   "source": []
  },
  {
   "cell_type": "code",
   "execution_count": null,
   "id": "dcc8aa28-d105-4af7-bbe6-6812d43440ff",
   "metadata": {},
   "outputs": [],
   "source": []
  },
  {
   "cell_type": "code",
   "execution_count": null,
   "id": "a80b4017-5ace-4a4e-bb9d-b5a7b08d7f2d",
   "metadata": {},
   "outputs": [],
   "source": []
  }
 ],
 "metadata": {
  "kernelspec": {
   "display_name": "Python 3 (ipykernel)",
   "language": "python",
   "name": "python3"
  },
  "language_info": {
   "codemirror_mode": {
    "name": "ipython",
    "version": 3
   },
   "file_extension": ".py",
   "mimetype": "text/x-python",
   "name": "python",
   "nbconvert_exporter": "python",
   "pygments_lexer": "ipython3",
   "version": "3.11.4"
  }
 },
 "nbformat": 4,
 "nbformat_minor": 5
}
