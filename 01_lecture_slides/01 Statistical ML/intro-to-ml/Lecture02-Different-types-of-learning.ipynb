{
 "cells": [
  {
   "cell_type": "markdown",
   "id": "d200390e-f7ec-407e-aa2a-905b50fb835e",
   "metadata": {},
   "source": [
    "### Introduction will have 4 parts\n",
    "    a) Introduction\n",
    "    b) Different types of learning\n",
    "    c) Hypothesis space, Inductive Bias\n",
    "    d) Evaluation, Training and test set, cross-validation"
   ]
  },
  {
   "cell_type": "markdown",
   "id": "c27e498d-cfa8-4e58-9863-ca1b84e594df",
   "metadata": {},
   "source": [
    "### Different types of learning"
   ]
  },
  {
   "cell_type": "markdown",
   "id": "6cebb371-1ed4-414c-bc69-2ed1c08d17f1",
   "metadata": {},
   "source": [
    "Broadly speaking, Types of ML are:\n",
    "1. Supervised Learning\n",
    "   - X, y (pre-classified training examples, labeled data)\n",
    "   - Given an observation x, what is the best label for y?\n",
    "2. Unsupervised Learning\n",
    "   - X\n",
    "   - Given a set of x's, cluster or summarize them\n",
    "3. Reinforcement Learning\n",
    "   - An agent in an environment\n",
    "   - Determine what to do based on rewards and punishments.\n",
    "   - An agent takes an action and the environement goes to new state and gives some reward to an agent. That reward can be positive, negative or zero depending on desired behaviour.\n",
    "\n",
    "- Semi-supervised learning\n",
    "  - Combination of supervised and unsupervised\n",
    "  - That is some labeled training data and larger amount of unlabeled training data.\n",
    "  - Some learning from the similarity of labeled data with unlabeled data."
   ]
  },
  {
   "cell_type": "markdown",
   "id": "3d78d2db-036e-40c7-9799-246c1f6f02c4",
   "metadata": {},
   "source": []
  },
  {
   "cell_type": "markdown",
   "id": "b9b09619-f93d-4ba9-b50b-16f851ba5761",
   "metadata": {},
   "source": []
  },
  {
   "cell_type": "markdown",
   "id": "70b7f40b-e170-440d-b1a0-87ea74cb30cf",
   "metadata": {},
   "source": []
  },
  {
   "cell_type": "markdown",
   "id": "fd917c6b-4d19-4ae4-ab9d-98af2d64b450",
   "metadata": {},
   "source": []
  },
  {
   "cell_type": "markdown",
   "id": "97d3a848-6012-471c-ba24-c226909aff3b",
   "metadata": {},
   "source": []
  },
  {
   "cell_type": "markdown",
   "id": "d2e18e36-8f3b-4be0-a794-f3dc95bd1c2e",
   "metadata": {},
   "source": []
  },
  {
   "cell_type": "markdown",
   "id": "a5f58b36-2d08-43e8-a183-485883bfb615",
   "metadata": {},
   "source": []
  },
  {
   "cell_type": "markdown",
   "id": "e8a8a4bd-4cc5-4730-9577-7b6634662b09",
   "metadata": {},
   "source": []
  }
 ],
 "metadata": {
  "kernelspec": {
   "display_name": "Python 3 (ipykernel)",
   "language": "python",
   "name": "python3"
  },
  "language_info": {
   "codemirror_mode": {
    "name": "ipython",
    "version": 3
   },
   "file_extension": ".py",
   "mimetype": "text/x-python",
   "name": "python",
   "nbconvert_exporter": "python",
   "pygments_lexer": "ipython3",
   "version": "3.11.4"
  }
 },
 "nbformat": 4,
 "nbformat_minor": 5
}
