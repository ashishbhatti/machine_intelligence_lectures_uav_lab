{
 "cells": [
  {
   "cell_type": "markdown",
   "id": "938609a0-4951-4a1c-90f2-3e12b0a86e0a",
   "metadata": {},
   "source": [
    "# Lecture 01: Introduction"
   ]
  },
  {
   "cell_type": "markdown",
   "id": "64bb66d0-cb8f-4952-b9ce-246fa62e6f16",
   "metadata": {},
   "source": [
    "In the industrial revolution, humans automated the tasks which required force and muscle. If not, they delegated such tasks to machines which were run by humans. From then on mind became significantly more important to humans than raw strength. Human strength became old and obsolete.\n",
    "\n",
    "We can witness a similar thing happening to the human mind. Right now, we are in AI age, whereby there is a rush to automate the tasks related to automating human cognition. If you want to be a part of it, ride along.\n",
    "\n",
    "\n",
    "\n",
    "Today's Agenda:\n",
    "1. Introduce ML\n",
    "2. Basics of course\n",
    "3. Brief History of ML\n",
    "4. What learning is about?\n",
    "5. Some simple applications of ML"
   ]
  },
  {
   "cell_type": "markdown",
   "id": "197525fb-ce4e-4830-805c-3db4695955b8",
   "metadata": {},
   "source": [
    "## Overview of the course\n",
    "1. Introduction\n",
    "2. Linear Regression and Decision Trees\n",
    "3. Instance based learning and feature selection\n",
    "4. Probability and Bayes Learning\n",
    "5. SVM\n",
    "6. ANN\n",
    "7. Introduction to Computational Learning Theory, Ensemble Learning\n",
    "8. Clustering"
   ]
  },
  {
   "cell_type": "markdown",
   "id": "ef002845-986a-4545-8db2-bd43dd059801",
   "metadata": {},
   "source": [
    "### Introduction will have 4 parts\n",
    "    a) Introduction\n",
    "    b) Different types of learning\n",
    "    c) Hypothesis space, Inductive Bias\n",
    "    d) Evaluation, Training and test set, cross-validation"
   ]
  },
  {
   "cell_type": "markdown",
   "id": "4025279f-9fc0-48bb-b068-2ecf3697fa64",
   "metadata": {},
   "source": [
    "# Machine Learning History\n",
    "\n",
    "- 1950s\n",
    "  - Samuel's checker-playing program\n",
    "- 1960s\n",
    "  - Neural Network: Rosenblatt's perceptron\n",
    "  - Pattern Recognition\n",
    "  - Minsky & Papert prove limitations of Perceptron\n",
    "- 1970s\n",
    "  - Symbolic concept induction\n",
    "  - Expert systems and knowledge acquisition bottleneck\n",
    "  - Quinlan's ID3\n",
    "  - Natural language processing (symbolic)\n",
    "- 1980s\n",
    "  - Advanced decision tree and rule learning\n",
    "  - Learning and planning and problem solving\n",
    "  - Viliant's PAC learning theory\n",
    "  - Focus on experimental methodology \n",
    "- 1990s\n",
    "  - Support Vector Machines\n",
    "  - Data Mining\n",
    "  - Adaptive agents and web applications\n",
    "  - Text Learning\n",
    "  - Reinforcement Learning\n",
    "  - Ensembles\n",
    "  - Bayes Net Learning\n",
    "  - 1994: Self-driving car roach test\n",
    "  - 1997: Deep Blue beats Gary Kasparov\n",
    "- 2000s\n",
    "  - Kernelized version of SVM\n",
    "  - Random Forest\n",
    "  - Bayes Net Learning\n",
    "  - 2009: Google builds self driving car\n",
    "  - 2011: Watson wins Jeopardy\n",
    "  - 2014: Human vision suprassed by ML systems\n",
    "\n",
    "\n",
    "* Popularity of this field in recent time and the reasons behind that\n",
    "  1. New software / algorithms\n",
    "     * Neural Networks\n",
    "     * Deep Learning\n",
    "  3. New Hardware\n",
    "     * GPU's\n",
    "  5. Cloud Enabled\n",
    "     * Availability of Big Data"
   ]
  },
  {
   "cell_type": "markdown",
   "id": "b3cf9231-ddd1-4284-9283-604615398a73",
   "metadata": {},
   "source": [
    "# Basics\n",
    "\n",
    "1. How an ML solution differs from a programmatic solution?\n",
    "\n",
    "    Paste an image\n",
    "\n",
    "2. What is learning? \\\n",
    "   The ability to improve behaviour based on experience. In context of machine learning, it is about building computer systems that automatically improve with experience.\n",
    "\n",
    "3. Machine Learning explores algorithms that\n",
    "   - learn / build models from data\n",
    "   - these models then can be used for prediction, decision making or solving tasks.\n",
    "\n",
    "4. Formal definition of Machine Learning \n",
    "\n",
    "   Given by Tom Mitchell, followed very popularly: \\\n",
    "   A computer program is said to learn from experience E, with respect to some class of tasks T, and performance measure P, \\\n",
    "   if its performance on tasks in T as measured by P, improves with experience E.\n",
    "\n",
    "   Components of a learning algorithm are as follows:\n",
    "   - Tasks T: These are the tasks whose behaviour the learning algorithm is seeking to improve. Example: Different types of tasks like prediction, classification, acting in an environment etc.\n",
    "   - Data or Experience E: This is what is used for improving the performance of the task.\n",
    "   - Measure of performance P: For example, you take the measure to be accuracy, and you want to see the increase in this accuracy, or you might want to improve efficiency of problem solving. Based on this you define the performance measure.\n",
    "\n",
    "6. Based on the above definition, learning system as a box.\n",
    "\n",
    "   - Box to which we feed: Data/Experience, Problem/Task (that requires solution) and background knowledge.\n",
    "   - Output: Answer/Solution whose corresponding performance can be measured.\n",
    "   - Inside the box, 2 main components:\n",
    "     - Learner: It takes the experience and background knowledge and builds a model.\n",
    "     - Reasoner: The above model is used by reasoner which given a Problem/Task, finds solution to the task, and performance measure corresponsing to this.\n",
    "\n"
   ]
  },
  {
   "cell_type": "markdown",
   "id": "f2911e54-7f66-4b81-9038-343e37c973c8",
   "metadata": {},
   "source": [
    "### Steps to create a learner, based on the box definition above\n",
    "1. Choose the **training experience/data**.\n",
    "2. Choose the target function to be learned, i.e. how to represent the model?\n",
    "3. Choose how to **represent the target function**.\n",
    "4. Choose a learning algorithm to infer the target function.\n",
    "\n",
    "The learning algorithm will explore the possible parameters, so that based on the data, it can come up with best function, given its computation limitations.\n",
    "\n",
    "Most important steps are:\n",
    "1. Choosing and respresenting training experience : This can be expressed in terms of features of domain.\n",
    "2. Represent the target function: You have to come up with appropriate class of functions on the features. When you have to find these class of functions, you have to make a decision. You can go for a very powerful class of function, which is very complex and can represent complex concepts. But is you choose a rich representation, it can represent complex functions, which can be useful for the problem but at the same time more difficult to learn. \\\n",
    "   `Rich representation ---> more difficult to learn` \\\n",
    "This class of functions is called the hypothesis language."
   ]
  }
 ],
 "metadata": {
  "kernelspec": {
   "display_name": "Python 3 (ipykernel)",
   "language": "python",
   "name": "python3"
  },
  "language_info": {
   "codemirror_mode": {
    "name": "ipython",
    "version": 3
   },
   "file_extension": ".py",
   "mimetype": "text/x-python",
   "name": "python",
   "nbconvert_exporter": "python",
   "pygments_lexer": "ipython3",
   "version": "3.11.4"
  }
 },
 "nbformat": 4,
 "nbformat_minor": 5
}
