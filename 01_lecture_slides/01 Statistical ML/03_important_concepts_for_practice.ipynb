{
 "cells": [
  {
   "cell_type": "markdown",
   "id": "f4f8ded7-1302-442f-bf41-76478ffe8744",
   "metadata": {},
   "source": [
    "- Basic Practice"
   ]
  },
  {
   "cell_type": "code",
   "execution_count": null,
   "id": "8d28291e-2ee3-4c95-9eeb-0e5bbb13b4b5",
   "metadata": {},
   "outputs": [],
   "source": []
  },
  {
   "cell_type": "code",
   "execution_count": null,
   "id": "a22a5f9c-f510-4e53-8729-5987cff57014",
   "metadata": {},
   "outputs": [],
   "source": []
  },
  {
   "cell_type": "code",
   "execution_count": null,
   "id": "87141592-a91c-4c1d-b36a-64997ea4fa3c",
   "metadata": {},
   "outputs": [],
   "source": []
  },
  {
   "cell_type": "code",
   "execution_count": null,
   "id": "be47188d-b075-4c10-909c-19e66dc79f75",
   "metadata": {},
   "outputs": [],
   "source": []
  },
  {
   "cell_type": "code",
   "execution_count": null,
   "id": "38a23c2f-c5cd-49a1-abfc-59ac791459d7",
   "metadata": {},
   "outputs": [],
   "source": []
  },
  {
   "cell_type": "code",
   "execution_count": null,
   "id": "83712a6f-5f07-4ecd-b45e-133bfc547342",
   "metadata": {},
   "outputs": [],
   "source": []
  },
  {
   "cell_type": "code",
   "execution_count": null,
   "id": "3ef8e12c-7164-4e16-b19c-b52f170031f9",
   "metadata": {},
   "outputs": [],
   "source": []
  }
 ],
 "metadata": {
  "kernelspec": {
   "display_name": "Python 3 (ipykernel)",
   "language": "python",
   "name": "python3"
  },
  "language_info": {
   "codemirror_mode": {
    "name": "ipython",
    "version": 3
   },
   "file_extension": ".py",
   "mimetype": "text/x-python",
   "name": "python",
   "nbconvert_exporter": "python",
   "pygments_lexer": "ipython3",
   "version": "3.11.4"
  }
 },
 "nbformat": 4,
 "nbformat_minor": 5
}
