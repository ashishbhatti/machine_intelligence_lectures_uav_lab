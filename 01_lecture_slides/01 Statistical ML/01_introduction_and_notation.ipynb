{
 "cells": [
  {
   "cell_type": "markdown",
   "id": "afabb3e8-20d7-491d-bf6d-3eb87ea55166",
   "metadata": {},
   "source": [
    "# Introduction, Notation and Definitions"
   ]
  },
  {
   "cell_type": "markdown",
   "id": "2c103990-adb3-47a6-8af6-1067eca1e634",
   "metadata": {},
   "source": [
    "Let's be honest: **machines don't learn**. \n",
    "\n",
    "**Machines find a mathematical function:** \n",
    "- A typical _learning machine_ just finds a mathematical formula, which when applied to a set of inputs produces desired outputs.\n",
    "- Then why is this useful? Because this mathematical formula generates correct outputs for most other inputs, which are not in training data. You just take the input you don't know the value for, plug it into the formula and get the correct output.\n",
    "- But there is a condition. Those new inputs should come from the same or similar statistical distribution as the training inputs.\n",
    "\n",
    "Why is this not learning? \\\n",
    "Because if we distort the inputs, the outputs will likely become wrong. One example of this is cat-dog image classification problem. If the machine is trained on the images of cats and dogs in upright position, the machine will get confused if cat is upside down in the input image. \n",
    "\n",
    "This is not how learning works in animals. If you learn to play a game by looking at an upright screen, even if the screen is rotated, you will still be a good player. The reason might be the ability to learn **causal** nature of the problem in animals and humans."
   ]
  },
  {
   "cell_type": "code",
   "execution_count": null,
   "id": "35feef88-52ef-4125-a6f3-c309a667a6d8",
   "metadata": {},
   "outputs": [],
   "source": [
    "## write code where you input an upright image to a model and it predicts correctly\n",
    "## and also where you input upside down image and model predicts incorrectly\n",
    "\n",
    "## here only the input and output code should be there\n",
    "## write the code of training and saving the model somewhere else, maybe in code folder."
   ]
  },
  {
   "cell_type": "markdown",
   "id": "55544299-d498-4b80-b426-0c92d0d5ff8d",
   "metadata": {},
   "source": [
    "Why the term Machine Learning? \\\n",
    "Marketing. Arthur Samuel coined the term in 1959 while at IBM. And IBM used the term to separate themselves from the competition and attract both clients and employees with this new cool term. But now the term Machine Learning has become a well-known and accepted term to refer to the mathematics and engineering of building machines designed to be capable of doing things without explicitly being programmed to do so. The word learning hence is used by analogy with the learning in animals rather than literally.\n",
    "\n",
    "\n"
   ]
  },
  {
   "cell_type": "code",
   "execution_count": null,
   "id": "74c779c2-d231-4ce0-b9ab-c00d035f0877",
   "metadata": {},
   "outputs": [],
   "source": []
  },
  {
   "cell_type": "code",
   "execution_count": null,
   "id": "492cd7bd-c784-457e-bad1-8fa74635cc36",
   "metadata": {},
   "outputs": [],
   "source": []
  }
 ],
 "metadata": {
  "kernelspec": {
   "display_name": "Python 3 (ipykernel)",
   "language": "python",
   "name": "python3"
  },
  "language_info": {
   "codemirror_mode": {
    "name": "ipython",
    "version": 3
   },
   "file_extension": ".py",
   "mimetype": "text/x-python",
   "name": "python",
   "nbconvert_exporter": "python",
   "pygments_lexer": "ipython3",
   "version": "3.11.4"
  }
 },
 "nbformat": 4,
 "nbformat_minor": 5
}
