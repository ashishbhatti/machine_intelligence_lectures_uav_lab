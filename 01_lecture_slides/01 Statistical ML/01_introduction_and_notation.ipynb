{
 "cells": [
  {
   "cell_type": "markdown",
   "id": "afabb3e8-20d7-491d-bf6d-3eb87ea55166",
   "metadata": {},
   "source": [
    "# Introduction, Notation and Definitions"
   ]
  },
  {
   "cell_type": "code",
   "execution_count": null,
   "id": "5d80886a-9927-4fc7-93a9-972c7bc7c2b0",
   "metadata": {},
   "outputs": [],
   "source": []
  },
  {
   "cell_type": "code",
   "execution_count": null,
   "id": "35feef88-52ef-4125-a6f3-c309a667a6d8",
   "metadata": {},
   "outputs": [],
   "source": []
  },
  {
   "cell_type": "code",
   "execution_count": null,
   "id": "144ed411-4357-4f5a-af05-f27b80b71b6b",
   "metadata": {},
   "outputs": [],
   "source": []
  },
  {
   "cell_type": "code",
   "execution_count": null,
   "id": "74c779c2-d231-4ce0-b9ab-c00d035f0877",
   "metadata": {},
   "outputs": [],
   "source": []
  },
  {
   "cell_type": "code",
   "execution_count": null,
   "id": "492cd7bd-c784-457e-bad1-8fa74635cc36",
   "metadata": {},
   "outputs": [],
   "source": []
  }
 ],
 "metadata": {
  "kernelspec": {
   "display_name": "Python 3 (ipykernel)",
   "language": "python",
   "name": "python3"
  },
  "language_info": {
   "codemirror_mode": {
    "name": "ipython",
    "version": 3
   },
   "file_extension": ".py",
   "mimetype": "text/x-python",
   "name": "python",
   "nbconvert_exporter": "python",
   "pygments_lexer": "ipython3",
   "version": "3.11.4"
  }
 },
 "nbformat": 4,
 "nbformat_minor": 5
}
