{
 "cells": [
  {
   "cell_type": "markdown",
   "id": "afabb3e8-20d7-491d-bf6d-3eb87ea55166",
   "metadata": {},
   "source": [
    "# Introduction, Notation and Definitions\n",
    "1. Preview\n",
    "   - An application of machine learning.\n",
    "3. Introduction\n",
    "   - What is machine learning?\n",
    "   - Types of machine learning?\n",
    "   - How supervised learning works?\n",
    "   - How unsupervised learning works?\n",
    "4. Notation and definitions"
   ]
  },
  {
   "cell_type": "markdown",
   "id": "2c103990-adb3-47a6-8af6-1067eca1e634",
   "metadata": {},
   "source": [
    "## 1. Preview\n",
    "\n",
    "Let's be honest: **machines don't learn**. \n",
    "\n",
    "**Machines find a mathematical function:** \n",
    "- A typical _learning machine_ just finds a mathematical formula, which when applied to a set of inputs produces desired outputs.\n",
    "- Then why is this useful? Because this mathematical formula generates correct outputs for most other inputs, which are not in training data. You just take the input you don't know the value for, plug it into the formula and get the correct output.\n",
    "- But there is a condition. Those new inputs should come from the same or similar statistical distribution as the training inputs.\n",
    "\n",
    "$$\n",
    "y = f(x)\n",
    "$$\n",
    "\n",
    "Why is this not learning? \\\n",
    "Because if we distort the inputs, the outputs will likely become wrong. One example of this is cat-dog image classification problem. If the machine is trained on the images of cats and dogs in upright position, the machine will get confused if cat is upside down in the input image. \n",
    "\n",
    "This is not how learning works in animals. If you learn to play a game by looking at an upright screen, even if the screen is rotated, you will still be a good player. The reason might be the ability to learn **causal** nature of the problem in animals and humans."
   ]
  },
  {
   "cell_type": "code",
   "execution_count": 1,
   "id": "35feef88-52ef-4125-a6f3-c309a667a6d8",
   "metadata": {},
   "outputs": [],
   "source": [
    "## write code where you input an upright image to a model and it predicts correctly\n",
    "## and also where you input upside down image and model predicts incorrectly\n",
    "\n",
    "## coursera or geeks for geeks?\n",
    "## https://www.geeksforgeeks.org/cat-dog-classification-using-convolutional-neural-network-in-python/\n",
    "\n",
    "## here only the input and output code should be there\n",
    "## write the code of training and saving the model somewhere else, maybe in code folder."
   ]
  },
  {
   "cell_type": "markdown",
   "id": "55544299-d498-4b80-b426-0c92d0d5ff8d",
   "metadata": {},
   "source": [
    "Why the term Machine Learning? \\\n",
    "Marketing. Arthur Samuel coined the term in 1959 while at IBM. And IBM used the term to separate themselves from the competition and attract both clients and employees with this new cool term. But now the term Machine Learning has become a well-known and accepted term to refer to the mathematics and engineering of building machines designed to be capable of doing things without explicitly being programmed to do so. The word learning hence is used by analogy with the learning in animals rather than literally.\n",
    "\n",
    "\n"
   ]
  },
  {
   "cell_type": "markdown",
   "id": "d24a9fbb-0a6f-4b0c-9927-99c19e7edc99",
   "metadata": {},
   "source": [
    "## 2. Introduction"
   ]
  },
  {
   "cell_type": "markdown",
   "id": "784dcb89-6fcb-464f-99c1-52a55012d7cf",
   "metadata": {},
   "source": [
    "**What is Machine Learning?** \\\n",
    "Machine Learning is a subfield of computer science and statistics. It is concerned with building algorithms which can learn a function from a known dataset. This function is then used to solve the problem: find outputs for inputs which are not in the known dataset.\n",
    "\n",
    "So, ML involves 2 major steps:\n",
    "- Dataset Creation: Gathering the dataset by hand, or use some other algorithm\n",
    "- Algorithmically building a statistical model on the dataset\n"
   ]
  },
  {
   "cell_type": "markdown",
   "id": "64a92aab-741d-4d44-bf32-7c6d3c2fd34b",
   "metadata": {},
   "source": [
    "**Types of Machine Learning** \\\n",
    "An animal learns gradually using experiences which can be stretched over years. When training a machine, we can create a dataset of most of the experiences through which we want the machine to learn. Depending on the algorithm, the machine will learn from these experiences in mere minutes not years. \n",
    "\n",
    "Depending on the availability of output in the dataset, we divide ML into 3 categories:\n",
    "1. Supervised learning\n",
    "2. Unsupervised learning\n",
    "3. Semi-supervised learning\n",
    "   \n",
    "But what if we want the machine to learn through its own experiences made while interacting with an environment, rather than a dataset of experiences we provide? \n",
    "\n",
    "4. Reinforcement learning\n",
    "\n"
   ]
  },
  {
   "cell_type": "markdown",
   "id": "685d8e1c-45ab-48e5-83b4-4268b7d0f372",
   "metadata": {},
   "source": [
    "**Supervised Learning** \\\n",
    "For each input in the dataset, there is a corresponding output. Hence, the dataset is a collection of labelled examples.\n",
    "$$\n",
    "dataset = \\{  (\\mathbf{x}_i, y_i)  \\}_{i=1} ^N\n",
    "$$\n",
    "- Each element $\\mathbf{x}_i$ among $N$ is called a feature vector.\n",
    "- Each feature vector has $D$ dimensions. Each dimension $j = 1,...,D$ contains a value called a feature, denoted by $x^{(j)}$. Each feature describes a component of the example.\n",
    "- The label $y_i$ is the known output for the input $\\mathbf{x}_i$. Depending on the problem $y_i$ can be a real number, or an element belonging to a finite set of classes $\\{1,2,...,C\\}$, or a more complex structure, like a vecotr, a matrix, a tree or a graph.\n",
    "\n",
    "The goal is to create a model that takes a feature vector $\\mathbf{x}$ as input and outputs information that allows to deduce the label $y$ for this feature vector."
   ]
  },
  {
   "cell_type": "markdown",
   "id": "ec35fe17-8e2a-4dc8-9f6b-d57236a7ca00",
   "metadata": {},
   "source": [
    "**How supervised learning works?** \\\n",
    "Make a model and show"
   ]
  },
  {
   "cell_type": "markdown",
   "id": "a83f6c04-74db-464b-8a12-653879aa4465",
   "metadata": {},
   "source": [
    "**Unsupervised Learning** \\\n",
    "For each input in the dataset, there is NO corresponding output. Hence, the dataset is a collection of un-labelled examples.\n",
    "$$\n",
    "dataset = \\{  \\mathbf{x}_i  \\}_{i=1} ^N\n",
    "$$\n",
    "- Again each element $\\mathbf{x}_i$ is a feature vector as described above.\n",
    "\n",
    "The goal is to produce a model that takes a feature vector $\\mathbf{x}$ as input and transforms it into another vector or into a value that can be used to solve a problem. Examples:\n",
    "- Clustering\n",
    "- Dimensionality Reduction"
   ]
  },
  {
   "cell_type": "markdown",
   "id": "00ff8992-52a3-4e8b-b401-16858c607bd4",
   "metadata": {},
   "source": [
    "**How unsupervised learning works?** \\\n",
    "Make a model and show"
   ]
  },
  {
   "cell_type": "code",
   "execution_count": null,
   "id": "81911eae-471e-47d5-aa0c-b87faee37a4d",
   "metadata": {},
   "outputs": [],
   "source": []
  },
  {
   "cell_type": "code",
   "execution_count": null,
   "id": "ced0133f-e148-4f3c-895c-72570469a376",
   "metadata": {},
   "outputs": [],
   "source": []
  },
  {
   "cell_type": "code",
   "execution_count": null,
   "id": "9db0f12b-2ed4-4dcb-849b-94ec3c68e44e",
   "metadata": {},
   "outputs": [],
   "source": []
  },
  {
   "cell_type": "code",
   "execution_count": null,
   "id": "ed39d3ca-7fde-4aa7-b582-3e5c558f0a37",
   "metadata": {},
   "outputs": [],
   "source": []
  },
  {
   "cell_type": "code",
   "execution_count": null,
   "id": "261b25c7-6795-4526-b180-a5e2e10d3e3e",
   "metadata": {},
   "outputs": [],
   "source": []
  },
  {
   "cell_type": "markdown",
   "id": "54de2e26-1d59-4ca2-a229-a6246f1abac8",
   "metadata": {},
   "source": [
    "## 3. Notations and Definitions"
   ]
  },
  {
   "cell_type": "code",
   "execution_count": null,
   "id": "6123a0ec-e81d-4dde-96b8-99e0c94b9806",
   "metadata": {},
   "outputs": [],
   "source": []
  },
  {
   "cell_type": "code",
   "execution_count": null,
   "id": "b4977eaf-a2a6-4b35-afcb-5a2c2cd0f5b3",
   "metadata": {},
   "outputs": [],
   "source": []
  }
 ],
 "metadata": {
  "kernelspec": {
   "display_name": "Python 3 (ipykernel)",
   "language": "python",
   "name": "python3"
  },
  "language_info": {
   "codemirror_mode": {
    "name": "ipython",
    "version": 3
   },
   "file_extension": ".py",
   "mimetype": "text/x-python",
   "name": "python",
   "nbconvert_exporter": "python",
   "pygments_lexer": "ipython3",
   "version": "3.11.4"
  }
 },
 "nbformat": 4,
 "nbformat_minor": 5
}
